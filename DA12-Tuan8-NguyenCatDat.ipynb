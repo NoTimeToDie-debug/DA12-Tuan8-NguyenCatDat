{
 "cells": [
  {
   "cell_type": "markdown",
   "metadata": {},
   "source": [
    "Thực hiện phân tích mô tả cho dữ liệu chuyến bay \"nycflights.csv\":\n",
    "1. Cho cột dep_delay (khởi hành trễ)\n",
    "2. Cho cột arr_delay (đến nơi trễ)\n",
    "3. Cho cột distance (khoảng cách chuyến bay)\n",
    "4. Sử dụng linear regression xây dựng mô hình dự đoán thời gian đến nơi trễ \n",
    "(arr_delay) dựa vào thời gian xuất phát trễ (dep_delay) và khoảng cách \n",
    "(distance)"
   ]
  },
  {
   "cell_type": "markdown",
   "metadata": {},
   "source": [
    "Nâng cao: tiếp tục với dữ liệu 'nycflights.csv'\n",
    "1. Thực hiện phân tích mô tả cho 3 cột ở trên nhưng chia theo nơi xuất phát: \n",
    "cột origin (gồm 3 sân bay: JFK, LGA, EWR)\n",
    "2. Chia ra làm 3 mô hình cho 3 sân bay xuất phát (JFK, LGA, EWR) và nhận xét \n",
    "về độ chính xác so với mô hình chung"
   ]
  }
 ],
 "metadata": {
  "language_info": {
   "name": "python"
  }
 },
 "nbformat": 4,
 "nbformat_minor": 2
}
